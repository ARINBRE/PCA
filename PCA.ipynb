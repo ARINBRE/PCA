{
 "cells": [
  {
   "cell_type": "markdown",
   "id": "95a40a58-6621-4c79-b7d5-30a5ecfa011c",
   "metadata": {},
   "source": [
    "• Principal Component Analysis (PCA) is a dimensionality reduction method, often used to create visualizations of high-dimensional data such as gene expression datasets with thousands of genes. It projects the data into a low-dimensional space while minimizing the sum of squared distances from the original data points to their projections. This is equivalent to maximizing the covariance matrix of the projected data.\n",
    "\n",
    "• Let $X$ be some $p×N$ gene expression matrix with $p$ genes and $N$ samples. PCA projects the $p$-dimensional data into a $q$-dimensional subspace ($q≤p$).\n",
    "\n",
    "• Let $C$ be the covariance matrix of $X$. $C$ is a non-negative definite matrix. It has the eigen decomposition $𝐶 = 𝑉𝑆𝑉^{−1}$, where $S$ is the diagonal matrix with non-negative eigenvalues ($σ_{i}, i=1, …, p$) of $C$ in decreasing order and the columns of matrix $V$ are the eigenvectors of $C$.\n",
    "\n",
    "• If we pick the first $q$ principal components, we have projected the $p$-dimensional data matrix $X$ into a $q$-dimensional sub-space. The fraction of the original variance kept by the projected data will be\n",
    "$$ R^2 = \\frac{\\sum_{i=1}^q \\sigma_i}{\\sum_{j=1}^p \\sigma_j} \\tag{1}$$\n"
   ]
  },
  {
   "cell_type": "code",
   "execution_count": 1,
   "id": "7d0ab655-21c2-4e07-b469-c5913ba55f74",
   "metadata": {},
   "outputs": [
    {
     "data": {
      "text/html": [
       "<style>\n",
       ".list-inline {list-style: none; margin:0; padding: 0}\n",
       ".list-inline>li {display: inline-block}\n",
       ".list-inline>li:not(:last-child)::after {content: \"\\00b7\"; padding: 0 .5ex}\n",
       "</style>\n",
       "<ol class=list-inline><li>'class.labels'</li><li>'exp.matrix'</li></ol>\n"
      ],
      "text/latex": [
       "\\begin{enumerate*}\n",
       "\\item 'class.labels'\n",
       "\\item 'exp.matrix'\n",
       "\\end{enumerate*}\n"
      ],
      "text/markdown": [
       "1. 'class.labels'\n",
       "2. 'exp.matrix'\n",
       "\n",
       "\n"
      ],
      "text/plain": [
       "[1] \"class.labels\" \"exp.matrix\"  "
      ]
     },
     "metadata": {},
     "output_type": "display_data"
    }
   ],
   "source": [
    "# load the provided preprocessed gene expression matrix of 18 normal and 27 clear cell renal cell carcinoma samples\n",
    "# the raw data is available from the Gene Expression Omnibus (GEO) repository under accession number GSE15641\n",
    "rm(list=ls())\n",
    "load(\"GeneExpressionData.RData\")\n",
    "ls() # check what data objects were loaded to workspace"
   ]
  },
  {
   "cell_type": "code",
   "execution_count": 2,
   "id": "368cae46-a8af-43a8-8262-073d4c471d89",
   "metadata": {},
   "outputs": [
    {
     "data": {
      "text/plain": [
       "class.labels\n",
       "clearcellRCC       normal \n",
       "          27           18 "
      ]
     },
     "metadata": {},
     "output_type": "display_data"
    }
   ],
   "source": [
    "# check what classes (groups) are there and how many samples in each\n",
    "table(class.labels)"
   ]
  },
  {
   "cell_type": "code",
   "execution_count": 3,
   "id": "5560659a-d662-4234-9f97-c69c931959d9",
   "metadata": {},
   "outputs": [],
   "source": [
    "# change the order of columns (samples) to ensure that normal samples are listed first, followed by clear cell renal cell carcinoma samples \n",
    "exp.matrix <- exp.matrix[, c(which(class.labels==\"normal\"), which(class.labels==\"clearcellRCC\"))]"
   ]
  },
  {
   "cell_type": "code",
   "execution_count": 4,
   "id": "b2d7ba34-67ed-49b8-ba10-4c2b7d657fe1",
   "metadata": {},
   "outputs": [
    {
     "data": {
      "text/html": [
       "<style>\n",
       ".list-inline {list-style: none; margin:0; padding: 0}\n",
       ".list-inline>li {display: inline-block}\n",
       ".list-inline>li:not(:last-child)::after {content: \"\\00b7\"; padding: 0 .5ex}\n",
       "</style>\n",
       "<ol class=list-inline><li>'sdev'</li><li>'rotation'</li><li>'center'</li><li>'scale'</li><li>'x'</li></ol>\n"
      ],
      "text/latex": [
       "\\begin{enumerate*}\n",
       "\\item 'sdev'\n",
       "\\item 'rotation'\n",
       "\\item 'center'\n",
       "\\item 'scale'\n",
       "\\item 'x'\n",
       "\\end{enumerate*}\n"
      ],
      "text/markdown": [
       "1. 'sdev'\n",
       "2. 'rotation'\n",
       "3. 'center'\n",
       "4. 'scale'\n",
       "5. 'x'\n",
       "\n",
       "\n"
      ],
      "text/plain": [
       "[1] \"sdev\"     \"rotation\" \"center\"   \"scale\"    \"x\"       "
      ]
     },
     "metadata": {},
     "output_type": "display_data"
    }
   ],
   "source": [
    "# Command 'prcomp' will return an error if any feature (gene) has zero variance (or standard deviation)\n",
    "# Checking for and discarding such features is recommended \n",
    "std <- apply(exp.matrix, 1, sd)\n",
    "if(any(std < 0.001))\n",
    "\t{\n",
    "\tind <- which(std < 0.001)\n",
    "\texp.matrix <- exp.matrix[-ind,] \n",
    "\t}\n",
    "pca <- prcomp(t(exp.matrix), scale=T)\n",
    "names(pca)"
   ]
  },
  {
   "cell_type": "raw",
   "id": "c07ba210-02a6-4fe1-9a5d-bcdbcb2952a4",
   "metadata": {},
   "source": [
    "pca$sdev is the standard deviations of the principal components (i.e., the square roots of the eigenvalues of the covariance matrix)\n",
    "pca$x a matrix with columns representing the principle components"
   ]
  },
  {
   "cell_type": "code",
   "execution_count": 5,
   "id": "ad1783a4-bef9-41da-999f-a6252eae308d",
   "metadata": {},
   "outputs": [],
   "source": [
    "# calculate the proportion of data variance explained by the first 3 principal components\n",
    "a <- pca$sdev\n",
    "pc1 <- a[1]^2/sum(a^2)\n",
    "pc2 <- a[2]^2/sum(a^2)\n",
    "pc3 <- a[3]^2/sum(a^2)"
   ]
  },
  {
   "cell_type": "code",
   "execution_count": 6,
   "id": "a3d3c482-ba6d-430b-9a03-eb8b748ff9cc",
   "metadata": {
    "scrolled": true
   },
   "outputs": [
    {
     "data": {
      "image/png": "[encoded data removed]",
      "text/plain": [
       "Plot with title \"Two-dimensional PCA scatter plot\""
      ]
     },
     "metadata": {
      "image/png": {
       "height": 420,
       "width": 420
      }
     },
     "output_type": "display_data"
    }
   ],
   "source": [
    "# generate a 2-dimensional scatter plot \n",
    "colors <- ifelse(class.labels==\"normal\", \"green\", \"red\")\n",
    "symbols <- ifelse(class.labels==\"normal\", 16, 17)\n",
    "plot(pca$x[,1:2], pch=symbols, cex=2, cex.lab=1.5, col=colors, main=\"Two-dimensional PCA scatter plot\",\n",
    "xlab=paste(\"PC1 (\", round(100*pc1, 2), \"%)\", sep=\"\"), \n",
    "ylab=paste(\"PC2 (\", round(100*pc2, 2), \"%)\", sep=\"\"))\n",
    "legend(\"topright\", legend=c(\"Normal\",\"ClearCellRCC\"), col=c(\"green\",\"red\"), pch=c(16,17), cex=1.5, pt.cex=2.5)"
   ]
  },
  {
   "cell_type": "markdown",
   "id": "0bc4c85c-e7a9-4a08-9d77-b5ecf0a96b3f",
   "metadata": {},
   "source": [
    "**Observation:** The PCA scatter plot shows that the two classes (Normal and ClearCellRCC) are well-clustered"
   ]
  },
  {
   "cell_type": "raw",
   "id": "4576acff-9869-4c3d-9173-103b8807c95b",
   "metadata": {},
   "source": [
    "Now, we can view the proportion of variance explained by principal components in a bar plot."
   ]
  },
  {
   "cell_type": "code",
   "execution_count": 7,
   "id": "32b61647-c9c7-455a-8d71-f515c1d76c01",
   "metadata": {},
   "outputs": [
    {
     "data": {
      "image/png": "[encoded data removed]",
      "text/plain": [
       "Plot with title \"% Variance explained by principal components\""
      ]
     },
     "metadata": {
      "image/png": {
       "height": 420,
       "width": 420
      }
     },
     "output_type": "display_data"
    }
   ],
   "source": [
    "# to show the proportion of variance explained by each principal component\n",
    "pos <- barplot((a^2/sum(a^2)), plot=FALSE, main=\"% Variance explained by principal components\", xlab=\"Principal Components\", ylab=\"% Variance Explained\", names.arg=paste(\"PC\", c(1:45), sep=\"\"))\n",
    "barplot(a^2/sum(a^2), axes=FALSE, main=\"% Variance explained by principal components\", xlab=\"Principal Components\", ylab=\"% Variance Explained\")\n",
    "axis(side=1, las=2, at=pos, labels=paste(\"PC\", c(1:45), sep=\"\"), cex.axis=0.7)\n",
    "axis(side=2, las=1, at=seq(0, max(a^2/sum(a^2)), by=0.05), cex.axis=1)"
   ]
  },
  {
   "cell_type": "code",
   "execution_count": 8,
   "id": "7b42160a-013a-4355-b9b4-a97385b802e4",
   "metadata": {},
   "outputs": [
    {
     "data": {
      "text/plain": [
       "R version 4.4.2 (2024-10-31 ucrt)\n",
       "Platform: x86_64-w64-mingw32/x64\n",
       "Running under: Windows 11 x64 (build 22631)\n",
       "\n",
       "Matrix products: default\n",
       "\n",
       "\n",
       "locale:\n",
       "[1] LC_COLLATE=English_United States.utf8 \n",
       "[2] LC_CTYPE=English_United States.utf8   \n",
       "[3] LC_MONETARY=English_United States.utf8\n",
       "[4] LC_NUMERIC=C                          \n",
       "[5] LC_TIME=English_United States.utf8    \n",
       "\n",
       "time zone: America/Chicago\n",
       "tzcode source: internal\n",
       "\n",
       "attached base packages:\n",
       "[1] stats     graphics  grDevices utils     datasets  methods   base     \n",
       "\n",
       "loaded via a namespace (and not attached):\n",
       " [1] digest_0.6.37     IRdisplay_1.1     base64enc_0.1-3   fastmap_1.2.0    \n",
       " [5] glue_1.8.0        htmltools_0.5.8.1 repr_1.1.7        lifecycle_1.0.4  \n",
       " [9] cli_3.6.4         vctrs_0.6.5       pbdZMQ_0.3-13     compiler_4.4.2   \n",
       "[13] tools_4.4.2       evaluate_1.0.3    pillar_1.10.1     rlang_1.1.5      \n",
       "[17] jsonlite_1.9.1    crayon_1.5.3      IRkernel_1.3.2    uuid_1.2-1       "
      ]
     },
     "metadata": {},
     "output_type": "display_data"
    }
   ],
   "source": [
    "sessionInfo()"
   ]
  }
 ],
 "metadata": {
  "kernelspec": {
   "display_name": "R",
   "language": "R",
   "name": "ir"
  },
  "language_info": {
   "codemirror_mode": "r",
   "file_extension": ".r",
   "mimetype": "text/x-r-source",
   "name": "R",
   "pygments_lexer": "r",
   "version": "4.4.2"
  }
 },
 "nbformat": 4,
 "nbformat_minor": 5
}
